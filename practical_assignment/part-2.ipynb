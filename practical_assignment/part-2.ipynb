{
 "cells": [
  {
   "cell_type": "markdown",
   "source": [
    "# CS933 Image & Video Analysis coursework 2023-2024, Part 2\n",
    "> ID: 5556162, Name: Tien Yu Lin"
   ],
   "metadata": {
    "collapsed": false
   },
   "id": "511fc39102daa0e5"
  },
  {
   "cell_type": "code",
   "outputs": [],
   "source": [],
   "metadata": {
    "collapsed": false
   },
   "id": "d5a3d1459f552e10"
  }
 ],
 "metadata": {
  "kernelspec": {
   "display_name": "Python 3",
   "language": "python",
   "name": "python3"
  },
  "language_info": {
   "codemirror_mode": {
    "name": "ipython",
    "version": 2
   },
   "file_extension": ".py",
   "mimetype": "text/x-python",
   "name": "python",
   "nbconvert_exporter": "python",
   "pygments_lexer": "ipython2",
   "version": "2.7.6"
  }
 },
 "nbformat": 4,
 "nbformat_minor": 5
}
