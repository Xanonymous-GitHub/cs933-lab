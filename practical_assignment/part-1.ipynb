{
 "cells": [
  {
   "cell_type": "markdown",
   "source": [
    "# CS933 Image & Video Analysis coursework 2023-2024, Part 1\n",
    "> ID: 5556162, Name: Tien Yu Lin"
   ],
   "metadata": {
    "collapsed": false
   },
   "id": "9c00fe83665d877b"
  },
  {
   "cell_type": "code",
   "outputs": [],
   "source": [],
   "metadata": {
    "collapsed": false
   },
   "id": "2b518e896535387c"
  }
 ],
 "metadata": {
  "kernelspec": {
   "display_name": "Python 3",
   "language": "python",
   "name": "python3"
  },
  "language_info": {
   "codemirror_mode": {
    "name": "ipython",
    "version": 2
   },
   "file_extension": ".py",
   "mimetype": "text/x-python",
   "name": "python",
   "nbconvert_exporter": "python",
   "pygments_lexer": "ipython2",
   "version": "2.7.6"
  }
 },
 "nbformat": 4,
 "nbformat_minor": 5
}
